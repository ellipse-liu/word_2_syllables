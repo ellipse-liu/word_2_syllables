{
 "cells": [
  {
   "cell_type": "code",
   "execution_count": 42,
   "id": "7494afbc-68f2-494c-b3a9-cb8acc5e7644",
   "metadata": {},
   "outputs": [],
   "source": [
    "import pickle\n",
    "import random"
   ]
  },
  {
   "cell_type": "code",
   "execution_count": 43,
   "id": "4f99070c-20eb-448f-ad6a-a770624a558b",
   "metadata": {},
   "outputs": [],
   "source": [
    "dataset_file = open('dataset.txt')\n",
    "output_file = open('training_data.txt', 'w+')\n",
    "metadata_file = open('metadata.txt', 'w+')\n",
    "\n",
    "max_encoder_len = 0\n",
    "max_decoder_len = 0\n",
    "\n",
    "num_encoder_vocab = 0\n",
    "num_decoder_vocab = 0\n",
    "\n",
    "encoder_vocab = []\n",
    "decoder_vocab = []\n",
    "\n",
    "dataset = dataset_file.readlines()\n",
    "dataset = [word.strip('\\n') for word in dataset]\n",
    "random.shuffle(dataset)"
   ]
  },
  {
   "cell_type": "code",
   "execution_count": 44,
   "id": "c35f0274-43e4-4f2d-b2c5-876c8b62b1b5",
   "metadata": {},
   "outputs": [],
   "source": [
    "def splitter(line):\n",
    "    global max_encoder_len\n",
    "    global max_decoder_len\n",
    "    global encoder_vocab\n",
    "    global decoder_vocab\n",
    "    global output_file\n",
    "    word = line.replace(';', '')\n",
    "    line = '<' + line + '>'\n",
    "    for c in word:\n",
    "        if c not in encoder_vocab:\n",
    "            encoder_vocab += [c]\n",
    "    for c in line:\n",
    "        if c not in decoder_vocab:\n",
    "            decoder_vocab += [c]\n",
    "    max_encoder_len = max(len(word), max_encoder_len)\n",
    "    max_decoder_len = max(len(line) + 2, max_decoder_len)\n",
    "    output_file.write(word + '\\t' + line + '\\n')"
   ]
  },
  {
   "cell_type": "code",
   "execution_count": 45,
   "id": "54ea5d74-f9f1-460f-bb62-36f2c2295fb3",
   "metadata": {},
   "outputs": [],
   "source": [
    "for line in dataset:\n",
    "    splitter(line)\n",
    "    \n",
    "dataset_file.close()\n",
    "output_file.close()"
   ]
  },
  {
   "cell_type": "code",
   "execution_count": 46,
   "id": "63c28a11-4154-4066-a312-858c3be68dac",
   "metadata": {},
   "outputs": [],
   "source": [
    "encoder_vocab = sorted(encoder_vocab)\n",
    "decoder_vocab = sorted(decoder_vocab)\n",
    "\n",
    "encoder_to_int = dict((a,i) for i,a in enumerate(encoder_vocab, 1))\n",
    "int_to_encoder = dict((i,a) for i,a in enumerate(encoder_vocab, 1))\n",
    "\n",
    "decoder_to_int = dict((a,i) for i,a in enumerate(decoder_vocab, 1))\n",
    "int_to_decoder = dict((i,a) for i,a in enumerate(decoder_vocab, 1))\n",
    "\n",
    "num_encoder_vocab = len(encoder_vocab) + 1\n",
    "num_decoder_vocab = len(decoder_vocab) + 1"
   ]
  },
  {
   "cell_type": "code",
   "execution_count": 47,
   "id": "f543d1d4-b438-4030-b9cb-d0b445671c1f",
   "metadata": {},
   "outputs": [],
   "source": [
    "metadata_file.write(\"max_encoder_len: \" + '\\t' + str(max_encoder_len) + '\\n')\n",
    "metadata_file.write(\"max_decoder_len: \" + '\\t' + str(max_decoder_len) + '\\n')\n",
    "metadata_file.write(\"num_encoder_vocab: \" + '\\t' + str(num_encoder_vocab) + '\\n')\n",
    "metadata_file.write(\"num_decoder_vocab: \" + '\\t' + str(num_decoder_vocab) + '\\n')\n",
    "metadata_file.close()\n",
    "\n",
    "e2i_file = open('e2i.pkl' , 'wb')\n",
    "i2e_file = open('i2e.pkl' , 'wb')\n",
    "d2i_file = open('d2i.pkl' , 'wb')\n",
    "i2d_file = open('i2d.pkl' , 'wb')\n",
    "\n",
    "pickle.dump(encoder_to_int, e2i_file)\n",
    "pickle.dump(int_to_encoder, i2e_file)\n",
    "pickle.dump(decoder_to_int, d2i_file)\n",
    "pickle.dump(int_to_decoder, i2d_file)\n",
    "\n",
    "e2i_file.close()\n",
    "i2e_file.close()\n",
    "d2i_file.close()\n",
    "i2d_file.close()"
   ]
  },
  {
   "cell_type": "code",
   "execution_count": null,
   "id": "7fd3aa9b-7772-46ec-8202-c31df1e128b4",
   "metadata": {},
   "outputs": [],
   "source": []
  }
 ],
 "metadata": {
  "kernelspec": {
   "display_name": "Python [conda env:laptop_sketchbook] *",
   "language": "python",
   "name": "conda-env-laptop_sketchbook-py"
  },
  "language_info": {
   "codemirror_mode": {
    "name": "ipython",
    "version": 3
   },
   "file_extension": ".py",
   "mimetype": "text/x-python",
   "name": "python",
   "nbconvert_exporter": "python",
   "pygments_lexer": "ipython3",
   "version": "3.7.16"
  }
 },
 "nbformat": 4,
 "nbformat_minor": 5
}
